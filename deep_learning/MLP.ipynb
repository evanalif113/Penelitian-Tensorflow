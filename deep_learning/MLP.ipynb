{
 "cells": [
  {
   "cell_type": "code",
   "execution_count": 9,
   "id": "c3d577c0",
   "metadata": {},
   "outputs": [],
   "source": [
    "import numpy as np\n",
    "import pandas as pd\n",
    "import matplotlib.pyplot as plt\n"
   ]
  },
  {
   "cell_type": "code",
   "execution_count": 10,
   "id": "bdd5ec0c",
   "metadata": {},
   "outputs": [],
   "source": [
    "def sigmoid(x):\n",
    "    return 1 / (1 + np.exp(-x))\n",
    "\n",
    "def sigmoid_derivative(x):\n",
    "    s = sigmoid(x)\n",
    "    return s * (1 - s)"
   ]
  },
  {
   "cell_type": "code",
   "execution_count": 11,
   "id": "be921ca5",
   "metadata": {},
   "outputs": [],
   "source": [
    "X = np.array([[0, 0],\n",
    "              [0, 1],\n",
    "              [1, 0],\n",
    "              [1, 1]])\n",
    "y = np.array([[0],\n",
    "              [1],  \n",
    "              [1],\n",
    "              [0]])"
   ]
  },
  {
   "cell_type": "code",
   "execution_count": 17,
   "id": "591b0aa7",
   "metadata": {},
   "outputs": [],
   "source": [
    "np.random.seed(42)  # For reproducibility\n",
    "input_neurons = 2\n",
    "hidden_neurons = 4\n",
    "output_neurons = 1\n",
    "\n",
    "W1 = np.random.rand(input_neurons, hidden_neurons)\n",
    "W2 = np.random.rand(hidden_neurons, output_neurons)\n",
    "\n",
    "B1 = np.random.rand(1, hidden_neurons)\n",
    "B2 = np.random.rand(1, output_neurons)\n",
    "\n",
    "learning_rate = 0.001\n",
    "epochs = 100"
   ]
  },
  {
   "cell_type": "code",
   "execution_count": 16,
   "id": "fafc5bd4",
   "metadata": {},
   "outputs": [
    {
     "name": "stdout",
     "output_type": "stream",
     "text": [
      "Bobot W1 (input -> hidden):\n",
      "[[0.6926181  0.28276959 0.22417113 0.54536569]\n",
      " [0.71546741 0.41959809 0.97793017 0.67863605]]\n",
      "\n",
      "Bobot W2 (hidden -> output):\n",
      "[[0.41258093]\n",
      " [0.33586928]\n",
      " [0.27619441]\n",
      " [0.65637903]]\n",
      "\n",
      "Bias B1 (hidden layer):\n",
      "[[0.42917203 0.0516951  0.39148952 0.72363442]]\n",
      "\n",
      "Bias B2 (output layer):\n",
      "[[0.08687172]]\n"
     ]
    }
   ],
   "source": [
    "print(\"Bobot W1 (input -> hidden):\")\n",
    "print(W1)\n",
    "print(\"\\nBobot W2 (hidden -> output):\")\n",
    "print(W2)\n",
    "print(\"\\nBias B1 (hidden layer):\")\n",
    "print(B1)\n",
    "print(\"\\nBias B2 (output layer):\")\n",
    "print(B2)"
   ]
  },
  {
   "cell_type": "code",
   "execution_count": 13,
   "id": "2ae2efd3",
   "metadata": {},
   "outputs": [],
   "source": [
    "for epoch in range(epochs):\n",
    "    hidden_input = np.dot(X, W1) + B1\n",
    "    hidden_output = sigmoid(hidden_input)\n",
    "\n",
    "    final_input = np.dot(hidden_output, W2) + B2\n",
    "    final_output = sigmoid(final_input)\n",
    "\n",
    "    error = y - final_output\n",
    "    delta_output = error * sigmoid_derivative(final_input)\n",
    "\n",
    "    error_hidden = delta_output.dot(W2.T)\n",
    "    delta_hidden = error_hidden * sigmoid_derivative(hidden_output)\n",
    "\n",
    "    W2 += hidden_output.T.dot(delta_output) * learning_rate\n",
    "    W1 += X.T.dot(delta_hidden) * learning_rate\n",
    "    B2 += np.sum(delta_output, axis=0, keepdims=True) * learning_rate\n",
    "    B1 += np.sum(delta_hidden, axis=0, keepdims=True) * learning_rate"
   ]
  },
  {
   "cell_type": "code",
   "execution_count": 14,
   "id": "e6ed658e",
   "metadata": {},
   "outputs": [
    {
     "name": "stdout",
     "output_type": "stream",
     "text": [
      "Output setelah Training:\n",
      "[[0.75370051]\n",
      " [0.79520767]\n",
      " [0.78387443]\n",
      " [0.81432855]]\n"
     ]
    }
   ],
   "source": [
    "print(\"Output setelah Training:\")\n",
    "print(final_output)"
   ]
  }
 ],
 "metadata": {
  "kernelspec": {
   "display_name": "tensorflow",
   "language": "python",
   "name": "python3"
  },
  "language_info": {
   "codemirror_mode": {
    "name": "ipython",
    "version": 3
   },
   "file_extension": ".py",
   "mimetype": "text/x-python",
   "name": "python",
   "nbconvert_exporter": "python",
   "pygments_lexer": "ipython3",
   "version": "3.11.11"
  }
 },
 "nbformat": 4,
 "nbformat_minor": 5
}

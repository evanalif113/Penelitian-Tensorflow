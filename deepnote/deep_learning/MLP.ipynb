{
 "cells": [
  {
   "cell_type": "code",
   "execution_count": 33,
   "id": "c3d577c0",
   "metadata": {},
   "outputs": [],
   "source": [
    "import numpy as np"
   ]
  },
  {
   "cell_type": "code",
   "execution_count": 34,
   "id": "bdd5ec0c",
   "metadata": {},
   "outputs": [],
   "source": [
    "def sigmoid(x):\n",
    "    return 1 / (1 + np.exp(-x))\n",
    "\n",
    "def sigmoid_derivative(x):\n",
    "    s = sigmoid(x)\n",
    "    return s * (1 - s)"
   ]
  },
  {
   "cell_type": "code",
   "execution_count": 35,
   "id": "be921ca5",
   "metadata": {},
   "outputs": [],
   "source": [
    "X = np.array([[0, 0],\n",
    "              [0, 1],\n",
    "                [1, 0],\n",
    "                [1, 1]])\n",
    "y = np.array([[0],\n",
    "              [1],  \n",
    "              [1],\n",
    "              [0]])"
   ]
  },
  {
   "cell_type": "code",
   "execution_count": 36,
   "id": "591b0aa7",
   "metadata": {},
   "outputs": [],
   "source": [
    "np.random.seed(42)  # For reproducibility\n",
    "input_neurons = 2\n",
    "hidden_neurons = 4\n",
    "output_neurons = 1\n",
    "\n",
    "W1 = np.random.rand(input_neurons, hidden_neurons)\n",
    "W2 = np.random.rand(hidden_neurons, output_neurons)\n",
    "\n",
    "B1 = np.random.rand(1, hidden_neurons)\n",
    "B2 = np.random.rand(1, output_neurons)\n",
    "\n",
    "learning_rate = 0.005\n",
    "epochs = 10000"
   ]
  },
  {
   "cell_type": "code",
   "execution_count": 37,
   "id": "2ae2efd3",
   "metadata": {},
   "outputs": [],
   "source": [
    "for epoch in range(epochs):\n",
    "    hidden_input = np.dot(X, W1) + B1\n",
    "    hidden_output = sigmoid(hidden_input)\n",
    "\n",
    "    final_input = np.dot(hidden_output, W2) + B2\n",
    "    final_output = sigmoid(final_input)\n",
    "\n",
    "    error = y - final_output\n",
    "    delta_output = error * sigmoid_derivative(final_input)\n",
    "\n",
    "    error_hidden = delta_output.dot(W2.T)\n",
    "    delta_hidden = error_hidden * sigmoid_derivative(hidden_output)\n",
    "\n",
    "    W2 += hidden_output.T.dot(delta_output) * learning_rate\n",
    "    W1 += X.T.dot(delta_hidden) * learning_rate\n",
    "    B2 += np.sum(delta_output, axis=0, keepdims=True) * learning_rate\n",
    "    B1 += np.sum(delta_hidden, axis=0, keepdims=True) * learning_rate"
   ]
  },
  {
   "cell_type": "code",
   "execution_count": 38,
   "id": "e6ed658e",
   "metadata": {},
   "outputs": [
    {
     "name": "stdout",
     "output_type": "stream",
     "text": [
      "Output setelah Training:\n",
      "[[0.47788132]\n",
      " [0.50860155]\n",
      " [0.49609729]\n",
      " [0.52126003]]\n"
     ]
    }
   ],
   "source": [
    "print(\"Output setelah Training:\")\n",
    "print(final_output)"
   ]
  }
 ],
 "metadata": {
  "kernelspec": {
   "display_name": "tensorflow",
   "language": "python",
   "name": "python3"
  },
  "language_info": {
   "codemirror_mode": {
    "name": "ipython",
    "version": 3
   },
   "file_extension": ".py",
   "mimetype": "text/x-python",
   "name": "python",
   "nbconvert_exporter": "python",
   "pygments_lexer": "ipython3",
   "version": "3.11.11"
  }
 },
 "nbformat": 4,
 "nbformat_minor": 5
}
